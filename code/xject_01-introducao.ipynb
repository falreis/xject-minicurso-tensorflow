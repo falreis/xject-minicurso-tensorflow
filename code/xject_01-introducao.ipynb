{
 "cells": [
  {
   "cell_type": "markdown",
   "metadata": {},
   "source": [
    "![IFMG](https://images.even3.com.br/sBWZnWPFUBgLOGciSZc4G5ZQy7Q=/1100x440/smart/even3.blob.core.windows.net/banner/ARTEPARASITE3.993b3db9f908426e9833.png)\n",
    "\n",
    "---\n",
    "\n",
    "# Introdução ao Tensorflow - Parte 1\n",
    "\n",
    "---\n",
    "\n",
    "#### Professor: Felipe Reis\n",
    "\n",
    "#### Data: 20-10-2021"
   ]
  },
  {
   "cell_type": "markdown",
   "metadata": {},
   "source": [
    "---\n",
    "### Informações Iniciais\n",
    "\n",
    "Este tutorial contém um conjunto de códigos-fonte que podem ser executados com auxílio do [Jupyter](https://jupyter.org/) ou do [Google Colab](http://colab.research.google.com/). \n",
    "\n",
    "Os códigos fontes foram desenvolvidos com base na documentação do [Tensorflow](https://www.tensorflow.org/tutorials?hl=pt-br) e do [Keras](https://keras.io/api/).\n",
    "\n",
    "Esta primeira parte foi desenvolvida com base no tutorial \"*Treine sua primeira rede neural: classificação básica*\", disponibilizado na documentação do [Tensorflow](https://www.tensorflow.org/tutorials/keras/classification?hl=pt-br).\n",
    "\n",
    "Boa prática.\n",
    "\n",
    "*Felipe A. L. Reis*"
   ]
  },
  {
   "cell_type": "markdown",
   "metadata": {},
   "source": [
    "---\n",
    "### Importação de bibliotecas "
   ]
  },
  {
   "cell_type": "code",
   "execution_count": null,
   "metadata": {},
   "outputs": [],
   "source": [
    "!pip install graphviz\n",
    "!pip install pydot\n",
    "!pip install pydotplus"
   ]
  },
  {
   "cell_type": "code",
   "execution_count": null,
   "metadata": {},
   "outputs": [],
   "source": [
    "%load_ext autoreload\n",
    "%autoreload 2\n",
    "\n",
    "import numpy as np\n",
    "import matplotlib.pyplot as plt\n",
    "import random\n",
    "import time\n",
    "\n",
    "#import plot_images\n",
    "from xject_helper import xject_helper as helper\n",
    "\n",
    "#tensorflow\n",
    "import tensorflow as tf\n",
    "from tensorflow.python.client import device_lib\n",
    "from tensorflow import keras"
   ]
  },
  {
   "cell_type": "markdown",
   "metadata": {},
   "source": [
    "---\n",
    "### Uso de GPUs\n",
    "\n",
    "Para maior velocidade no treinamento e uso de redes neurais, verifique se está utilizando GPUs.\n",
    "\n",
    "Caso esteja utilizando o [Google Colab](http://colab.research.google.com/) e não tenha habilitado o uso de GPUs, siga a recomendação abaixo."
   ]
  },
  {
   "cell_type": "code",
   "execution_count": null,
   "metadata": {},
   "outputs": [],
   "source": [
    "if tf.test.gpu_device_name():\n",
    "    print('Default GPU Name: {}'.format(device_lib.list_local_devices()))\n",
    "else:\n",
    "    print(\"Please install GPU version of TF\")\n",
    "    print('Acesse o menu Edit > Notebook Settings')\n",
    "    print('Escolha a opção \"Hardware Accelerator: GPU\"')\n",
    "    print('Importe novamente as bibliotecas e execute o código novamente')"
   ]
  },
  {
   "cell_type": "code",
   "execution_count": null,
   "metadata": {},
   "outputs": [],
   "source": [
    "#Impressão de versão do Tensorflow\n",
    "print('Versão Tensorflow:', tf.__version__)\n",
    "print('Versão Keras:', keras.__version__)"
   ]
  },
  {
   "cell_type": "markdown",
   "metadata": {},
   "source": [
    "---\n",
    "## Base de Dados MNIST\n",
    "\n",
    "O banco de dados MNIST contém dígitos manuscritos (escritos a mão).\n",
    "\n",
    "Possui um conjunto de treinamento com 60.000 imagens e um conjunto de teste com 10.000 imagens. \n",
    "\n",
    "Os dígitos foram normalizados por tamanho e centralizados em uma imagem de tamanho fixo.\n",
    "\n",
    "A base de dados foi criada por Yann LeCun em 1998.\n",
    "\n",
    "Ela está disponível em: [http://yann.lecun.com/exdb/mnist/](http://yann.lecun.com/exdb/mnist/)\n",
    "\n",
    "![MNist](https://upload.wikimedia.org/wikipedia/commons/2/27/MnistExamples.png)\n",
    "\n",
    "Fonte: *Yann LeCun, Corinna Cortes, Christopher J.C. Burges. **Gradient-based learning applied to document recognition**. 1998. Proceedings of the IEEE, 86(11):2278-2324. Disponível em: http://yann.lecun.com/exdb/mnist/. Acesso em: 11 de outubro de 2021.*"
   ]
  },
  {
   "cell_type": "code",
   "execution_count": null,
   "metadata": {},
   "outputs": [],
   "source": [
    "#download da base de dados\n",
    "mnist = keras.datasets.mnist\n",
    "\n",
    "#divisão em base de treinamento e testes (subdividido em imagens e labels)\n",
    "(train_images, train_labels), (test_images, test_labels) = mnist.load_data()"
   ]
  },
  {
   "cell_type": "code",
   "execution_count": null,
   "metadata": {},
   "outputs": [],
   "source": [
    "#definição das classes \n",
    "class_names = ['Dígito 0', 'Dígito 1', 'Dígito 2', 'Dígito 3', 'Dígito 4', \n",
    "               'Dígito 5', 'Dígito 6', 'Dígito 7', 'Dígito 8', 'Dígito 9']"
   ]
  },
  {
   "cell_type": "code",
   "execution_count": null,
   "metadata": {},
   "outputs": [],
   "source": [
    "#informações sobre o tamanho o vetor das imagens (6k imagens, de 28x28)\n",
    "train_images.shape"
   ]
  },
  {
   "cell_type": "code",
   "execution_count": null,
   "metadata": {},
   "outputs": [],
   "source": [
    "#imprime os labels de treinamento (nome das classes)\n",
    "train_labels"
   ]
  },
  {
   "cell_type": "code",
   "execution_count": null,
   "metadata": {},
   "outputs": [],
   "source": [
    "#informações sobre o tamanho o vetor das labels (6k labels)\n",
    "print(train_labels.shape)"
   ]
  },
  {
   "cell_type": "code",
   "execution_count": null,
   "metadata": {
    "scrolled": false
   },
   "outputs": [],
   "source": [
    "#podemos visualizar algumas imagens do conjunto de treinamento\n",
    "helper.plot_images(train_images, train_labels, class_names, rows=5, columns=8, binary=True, random=False)"
   ]
  },
  {
   "cell_type": "markdown",
   "metadata": {},
   "source": [
    "### Pré processamento\n",
    "\n",
    "Para melhor aprendizar da rede, é necessário normalizar as imagens."
   ]
  },
  {
   "cell_type": "code",
   "execution_count": null,
   "metadata": {},
   "outputs": [],
   "source": [
    "train_images = train_images / 255.0\n",
    "test_images = test_images / 255.0"
   ]
  },
  {
   "cell_type": "code",
   "execution_count": null,
   "metadata": {},
   "outputs": [],
   "source": [
    "#podemos visualizar algumas imagens do conjunto de treinamento\n",
    "helper.plot_images(train_images, train_labels, class_names, rows=5, columns=8, binary=True, random=False)"
   ]
  },
  {
   "cell_type": "markdown",
   "metadata": {},
   "source": [
    "### Construção da rede neural\n",
    "\n",
    "O principal bloco de construção da rede neural é a camada (*layer*). As camadas  extraem representações dos dados inseridos na rede. Na construção de redes, algumas camadas podem ser encadeadas\n",
    "\n",
    "#### Modelo Sequencial\n",
    "\n",
    "O modelo sequencial é adequado para redes neurais simples, onde cada camada tem exatamente um [tensor](https://pt.wikipedia.org/wiki/Tensor) de entrada e um [tensor](https://pt.wikipedia.org/wiki/Tensor) de saída.\n",
    "\n",
    "Para usar um modelo de rede sequencial, é necessário utilizar o comando `keras.Sequential`.\n",
    "\n",
    "Mais informações: https://keras.io/guides/sequential_model/\n",
    "\n",
    "#### Camada Flatten\n",
    "\n",
    "*Flatten* é uma camada utilizada para achatar o vetor de entrada.\n",
    "\n",
    "Ex.: \n",
    "\n",
    "* Entrada: *(None, 10, 32)* \n",
    "* Saída: *(None, 320)*\n",
    "\n",
    "Para usar uma camada *Flatten*, é necessário utilizar o comando `keras.layers.Flatten`.\n",
    "\n",
    "Mais informações: https://keras.io/api/layers/reshaping_layers/flatten/\n",
    "\n",
    "\n",
    "#### Camada Dense\n",
    "\n",
    "As camadas do tipo `tf.keras.layers.Dense` contém neurônios totalmente conectados. \n",
    "\n",
    "Essas camadas correspondem a um conjunto convencional de neurônios artificiais, com entrada, produto de pesos e entradas, funções de ativação e saída.\n",
    "\n",
    "$$ x_j = g \\left( \\sum_{i=1}^{n} (x_i \\cdot w_i) + w_b \\right) $$\n",
    "\n",
    "Os pesos desses neurônios são aprendidos durante o treinamento.\n",
    "\n",
    "Essa camada possui diversos parâmetros, que podem ser utilizados para configuração da rede neural.\n",
    "\n",
    "Para usar uma camada *Dense*, é necessário utilizar o comando `keras.layers.Dense`.\n",
    "\n",
    "Mais informações: https://keras.io/api/layers/core_layers/dense/"
   ]
  },
  {
   "cell_type": "code",
   "execution_count": null,
   "metadata": {},
   "outputs": [],
   "source": [
    "#modelo de rede sequencial\n",
    "model = keras.Sequential([\n",
    "    #transforma a image em um array de imagens de duas dimensões (of 28 by 28 pixels)\n",
    "    keras.layers.Flatten(input_shape=(28, 28)), \n",
    "    \n",
    "    #Camada de dados totalmente conectadas, com ativação relu\n",
    "    #A camada possui 128 nós (neurônios)\n",
    "    keras.layers.Dense(128, activation='relu'),\n",
    "    \n",
    "    #Camada de dados totalmente conectadas, com ativação softmax\n",
    "    #A camada possui 10 nós (neurônios), correspondentes às probabilidades de cada classe (10 classes)\n",
    "    keras.layers.Dense(10, activation='softmax')\n",
    "])"
   ]
  },
  {
   "cell_type": "markdown",
   "metadata": {},
   "source": [
    "#### Visualização Gráfica da Rede\n",
    "\n",
    "O comando abaixo permite visualizar graficamente o modelo de rede neural."
   ]
  },
  {
   "cell_type": "code",
   "execution_count": null,
   "metadata": {},
   "outputs": [],
   "source": [
    "keras.utils.plot_model(\n",
    "    model,\n",
    "    show_shapes=True,\n",
    "    show_layer_names=True,\n",
    "    rankdir=\"TB\",\n",
    "    expand_nested=True,\n",
    "    dpi=96,\n",
    ")"
   ]
  },
  {
   "cell_type": "markdown",
   "metadata": {},
   "source": [
    "### Compilação do modelo\n",
    "\n",
    "Antes do modelo estar pronto para o treinamento, são necessárias algumas configurações. \n",
    "\n",
    "Essas configurações são feitas no passo de compilação:\n",
    "\n",
    "* **Função de Perda** (*Loss Function*)\n",
    "  * Mede qual a diferença entre os valores preditos e previstos pelo modelo.\n",
    "  * A função de perda deve ser minimizada, para que seja possível treinar a rede, de modo com que ela possa aprender e ter o menor erro.\n",
    "\n",
    "\n",
    "* **Otimizador** (*Optimizer*)\n",
    "  * Técnica para encontrar o ponto mínimo da função de perda, como o método do gradiente.\n",
    "\n",
    "\n",
    "* **Métricas** (*Metrics*)\n",
    "  * São medidas usadas para monitorar os passos de treinamento e teste. \n",
    "  * Fornecem uma informação estatística a respeito da qualidade dos resultados (intermediários ou finais).\n",
    "\n",
    "\n",
    "Para compilar o modelo é necessário utilizar o comando `model.compile`.\n",
    "  \n",
    "Mais informações: https://keras.io/api/models/model_training_apis/"
   ]
  },
  {
   "cell_type": "code",
   "execution_count": null,
   "metadata": {},
   "outputs": [],
   "source": [
    "#compila o modelo\n",
    "model.compile(optimizer='sgd', loss='sparse_categorical_crossentropy', metrics=['accuracy'])"
   ]
  },
  {
   "cell_type": "markdown",
   "metadata": {},
   "source": [
    "### Treinamento da rede\n",
    "\n",
    "Treinar a rede neural requer os seguintes passos:\n",
    "\n",
    "1. Indicar as imagens de treinamento;\n",
    "2. Informar os rótulos (*labels*), correspondente às classes das imagens\n",
    "3. Definir o número de épocas.\n",
    "\n",
    "Para começar a treinar, utilize o método `model.fit`.\n",
    "\n",
    "Mais informações: https://keras.io/api/models/model_training_apis/#fit-method"
   ]
  },
  {
   "cell_type": "code",
   "execution_count": null,
   "metadata": {
    "scrolled": false
   },
   "outputs": [],
   "source": [
    "#realiza o treinamento da rede\n",
    "model.fit(train_images, train_labels, epochs=5)"
   ]
  },
  {
   "cell_type": "markdown",
   "metadata": {},
   "source": [
    "### Predições de imagens\n",
    "\n",
    "Após treinado, é possível realizar previsões acerca de cada uma das imagens.\n",
    "\n",
    "O método recebe uma imagem como entrada e produz uma classificação como saída.\n",
    "\n",
    "Para realizar a classificação é utilizado o comando `model.predict`.\n",
    "\n",
    "Mais informações: https://keras.io/api/models/model_training_apis/#predict-method"
   ]
  },
  {
   "cell_type": "code",
   "execution_count": null,
   "metadata": {},
   "outputs": [],
   "source": [
    "#retorna predições de todo o conjunto de imagens de teste\n",
    "predictions = model.predict(test_images)\n",
    "\n",
    "#define a imagem a ser predita\n",
    "num_imagem = 0\n",
    "prediction = predictions[num_imagem]\n",
    "\n",
    "#imprime a classe com maior probabilidade\n",
    "class_pred = np.argmax(prediction)\n",
    "print('Classe predita: ', class_names[class_pred])"
   ]
  },
  {
   "cell_type": "code",
   "execution_count": null,
   "metadata": {},
   "outputs": [],
   "source": [
    "#imprime a probabilidade de cada classe para uma dada imagem\n",
    "for cl, prob in zip(class_names, prediction):\n",
    "    print(cl + ': {0:.2f}%'.format(prob*100))"
   ]
  },
  {
   "cell_type": "markdown",
   "metadata": {},
   "source": [
    "### Visualização das Predições\n",
    "\n",
    "Imprime a classe prevista (Prev) e a classe esperada (True).\n",
    "\n",
    "O gráfico contém as probabilidades de cada uma das classes (dígitos de 0 a 9)."
   ]
  },
  {
   "cell_type": "code",
   "execution_count": null,
   "metadata": {
    "scrolled": false
   },
   "outputs": [],
   "source": [
    "helper.plot_pred(class_names, predictions, test_labels, test_images)"
   ]
  },
  {
   "cell_type": "markdown",
   "metadata": {},
   "source": [
    "### Avaliação do modelo\n",
    "\n",
    "Após treinado, é possível analisar a qualidade das previsões da rede neural, no conjunto de testes.\n",
    "\n",
    "Avalia-se a perda e as métricas, de modo que seja possível analisar o desempenho da rede.\n",
    "\n",
    "Este conjunto é utilizado como uma representação de uma situação real e não deve ser usado para treinamento.\n",
    "\n",
    "A avaliação do conjunto é feita com o comando `model.evaluate`.\n",
    "\n",
    "Mais informações: https://keras.io/api/models/model_training_apis/#evaluate-method"
   ]
  },
  {
   "cell_type": "code",
   "execution_count": null,
   "metadata": {},
   "outputs": [],
   "source": [
    "test_loss, test_acc = model.evaluate(test_images, test_labels, verbose=2)\n",
    "print('Acurácia de testes: %.4f', test_acc)"
   ]
  },
  {
   "cell_type": "markdown",
   "metadata": {},
   "source": [
    "---\n",
    "---\n",
    "# Tarefas"
   ]
  },
  {
   "cell_type": "markdown",
   "metadata": {},
   "source": [
    "## Tarefa 1 (15 minutos)"
   ]
  },
  {
   "cell_type": "markdown",
   "metadata": {},
   "source": [
    "Altere o modelo de rede neural abaixo, adicionando novas camadas e verifique o desempenho da rede.\n",
    "\n",
    "Observe os efeitos da adição de camadas no tempo de treinamento e no desempenho global da rede.\n",
    "\n",
    "Para isso, adicione mais camadas, utilizando o comando `keras.layers.Dense`.\n",
    "\n",
    "Dica: Não adicione muitas camadas."
   ]
  },
  {
   "cell_type": "code",
   "execution_count": null,
   "metadata": {},
   "outputs": [],
   "source": [
    "#modelo de rede sequencial\n",
    "model = keras.Sequential([\n",
    "    #transforma a image em um array de imagens de duas dimensões (of 28 by 28 pixels)\n",
    "    keras.layers.Flatten(input_shape=(28, 28)), \n",
    "    \n",
    "    #Camada de dados totalmente conectadas, com ativação relu\n",
    "    #A camada possui 128 nós (neurônios)\n",
    "    keras.layers.Dense(128, activation='relu'),\n",
    "    \n",
    "    #Camada de dados totalmente conectadas, com ativação softmax\n",
    "    #A camada possui 10 nós (neurônios), correspondentes às probabilidades de cada classe (10 classes)\n",
    "    keras.layers.Dense(10, activation='softmax')\n",
    "])"
   ]
  },
  {
   "cell_type": "markdown",
   "metadata": {},
   "source": [
    "Visualize a arquitetura de rede neural criada."
   ]
  },
  {
   "cell_type": "code",
   "execution_count": null,
   "metadata": {},
   "outputs": [],
   "source": [
    "#imprime a imagem do modelo\n",
    "keras.utils.plot_model(\n",
    "    model,\n",
    "    show_shapes=True,\n",
    "    show_layer_names=True,\n",
    "    rankdir=\"TB\",\n",
    "    expand_nested=True,\n",
    "    dpi=96,\n",
    ")"
   ]
  },
  {
   "cell_type": "markdown",
   "metadata": {},
   "source": [
    "Compile, treine e avalie a eficiência da arquitetura de rede criada."
   ]
  },
  {
   "cell_type": "code",
   "execution_count": null,
   "metadata": {},
   "outputs": [],
   "source": [
    "#compila o modelo\n",
    "model.compile(optimizer='sgd', loss='sparse_categorical_crossentropy', metrics=['accuracy'])"
   ]
  },
  {
   "cell_type": "code",
   "execution_count": null,
   "metadata": {},
   "outputs": [],
   "source": [
    "#realiza o treinamento da rede\n",
    "model.fit(train_images, train_labels, epochs=10)"
   ]
  },
  {
   "cell_type": "code",
   "execution_count": null,
   "metadata": {},
   "outputs": [],
   "source": [
    "#avaliação do modelo, para o conjunto de testes\n",
    "test_loss, test_acc = model.evaluate(test_images,  test_labels, verbose=2)\n",
    "print('Acurácia de testes: %.4f', test_acc)"
   ]
  },
  {
   "cell_type": "markdown",
   "metadata": {},
   "source": [
    "---\n",
    "## Tarefa 2 (20 minutos)"
   ]
  },
  {
   "cell_type": "markdown",
   "metadata": {},
   "source": [
    "Treine a rede neural criada na Tarefa 1 para o conjunto de dados abaixo."
   ]
  },
  {
   "cell_type": "markdown",
   "metadata": {},
   "source": [
    "### Base de Dados Fashion MNist\n",
    "\n",
    "O banco de dados Fashion MNIST contém imagens de roupas, nas seguintes categorias.\n",
    "\n",
    "0. Camiseta (*T-shirt / Top*)\n",
    "1. Calça (*Trouser*)\n",
    "2. Suéter (*Pullover*)\n",
    "3. Vestido (*Dress*)\n",
    "4. Casaco (*Coat*)\n",
    "5. Sandália (*Sandal*)\n",
    "6. Camisa (*Shirt*)\n",
    "7. Tênis (*Sneaker*)\n",
    "8. Bolsa (*Bag*)\n",
    "9. Bota (*Ankle boot*)\n",
    "\n",
    "Contém  60.000 imagens de treinamento e 10.000 imagens de teste. \n",
    "Os dígitos foram normalizados por tamanho e centralizados em uma imagem de tamanho fixo.\n",
    "\n",
    "A base de dados foi criada pela Zalando Research com objetivo de ser um substituto direto para o conjunto de dados MNIST original. Essa base pode ser usada para benchmarking de algoritmos de aprendizado de máquina.\n",
    "\n",
    "A base de dados tem licensa MIT e está disponível em [https://github.com/zalandoresearch/fashion-mnist](https://github.com/zalandoresearch/fashion-mnist)\n",
    "\n",
    "A base de dados também pode ser encontrada no Kaggle: [https://www.kaggle.com/zalando-research/fashionmnist](https://www.kaggle.com/zalando-research/fashionmnist)\n",
    "\n",
    "![Fashion MNist](https://raw.githubusercontent.com/zalandoresearch/fashion-mnist/master/doc/img/fashion-mnist-sprite.png)\n",
    "\n",
    "Fonte: *Zalando Research*. **A MNIST-like fashion product database**. 2017. Disponível em: https://github.com/zalandoresearch/fashion-mnist. Acesso em: 11 de outubro de 2021.*"
   ]
  },
  {
   "cell_type": "code",
   "execution_count": null,
   "metadata": {},
   "outputs": [],
   "source": [
    "#download da base de dados\n",
    "fashion_mnist = keras.datasets.fashion_mnist\n",
    "\n",
    "#divisão em base de treinamento e testes (subdividido em imagens e labels)\n",
    "(train_images, train_labels), (test_images, test_labels) = fashion_mnist.load_data()"
   ]
  },
  {
   "cell_type": "code",
   "execution_count": null,
   "metadata": {},
   "outputs": [],
   "source": [
    "#insira seu código aqui"
   ]
  }
 ],
 "metadata": {
  "kernelspec": {
   "display_name": "Python 3",
   "language": "python",
   "name": "python3"
  },
  "language_info": {
   "codemirror_mode": {
    "name": "ipython",
    "version": 3
   },
   "file_extension": ".py",
   "mimetype": "text/x-python",
   "name": "python",
   "nbconvert_exporter": "python",
   "pygments_lexer": "ipython3",
   "version": "3.8.3"
  }
 },
 "nbformat": 4,
 "nbformat_minor": 4
}
