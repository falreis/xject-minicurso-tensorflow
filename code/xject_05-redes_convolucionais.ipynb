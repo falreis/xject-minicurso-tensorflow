{
 "cells": [
  {
   "cell_type": "markdown",
   "metadata": {},
   "source": [
    "![IFMG](https://images.even3.com.br/sBWZnWPFUBgLOGciSZc4G5ZQy7Q=/1100x440/smart/even3.blob.core.windows.net/banner/ARTEPARASITE3.993b3db9f908426e9833.png)\n",
    "\n",
    "---\n",
    "\n",
    "# Introdução ao Tensorflow - Parte 5\n",
    "\n",
    "---\n",
    "\n",
    "#### Professor: Felipe Reis\n",
    "\n",
    "#### Data: 20-10-2021"
   ]
  },
  {
   "cell_type": "markdown",
   "metadata": {},
   "source": [
    "---\n",
    "### Importação de bibliotecas "
   ]
  },
  {
   "cell_type": "code",
   "execution_count": null,
   "metadata": {},
   "outputs": [],
   "source": [
    "%load_ext autoreload\n",
    "%autoreload 2\n",
    "\n",
    "import numpy as np\n",
    "import matplotlib.pyplot as plt\n",
    "import random\n",
    "import time\n",
    "\n",
    "#import plot_images\n",
    "from xject_helper import xject_helper as helper\n",
    "\n",
    "#tensorflow\n",
    "import tensorflow as tf\n",
    "from tensorflow.python.client import device_lib\n",
    "from tensorflow import keras\n",
    "from keras.preprocessing.image import ImageDataGenerator"
   ]
  },
  {
   "cell_type": "code",
   "execution_count": null,
   "metadata": {},
   "outputs": [],
   "source": [
    "#código para compatibilidade de redes convolucionais com algumas placas de vídeo (ex.: série 16*)\n",
    "config = tf.compat.v1.ConfigProto()\n",
    "config.gpu_options.allow_growth = True\n",
    "sess = tf.compat.v1.Session(config=config)\n",
    "tf.compat.v1.keras.backend.set_session(sess)"
   ]
  },
  {
   "cell_type": "markdown",
   "metadata": {},
   "source": [
    "---\n",
    "## Base de Dados CIFAR-10\n",
    "\n",
    "A base de dados CIFAR-10 consiste em 60.000 imagens coloridas de 32x32, divididas em 10 classes.\n",
    "Cada classe contém 6.000 imagens por classe. \n",
    "O conjunto é dividido em 50.000 imagens de treinamento e 10.000 imagens de teste.\n",
    "\n",
    "CIFAR é o acrônimo de Canadian Institute For Advanced Research, proprietário da base de dados.\n",
    "O CIFAR-10 e CIFAR-100 são subconjuntos rotulados de uma base de dados de pequenas imagens que contém 80 milhões de amostras. \n",
    "\n",
    "As imagens foram coletadas por Alex Krizhevsky, Vinod Nair e Geoffrey Hinton.\n",
    "\n",
    "A base está disponível em: https://www.cs.toronto.edu/~kriz/cifar.html\n",
    "\n",
    "Ela também está disponível na página do Tensorflow: https://www.tensorflow.org/datasets/catalog/cifar10\n",
    "\n",
    "![CIFAR 10](https://cdn-images-1.medium.com/max/1200/1*SZnidBt7CQ4Xqcag6rd8Ew.png)\n",
    "\n",
    "Fonte: *Jannik Zürn. **Training a CIFAR-10 classifier in the cloud using TensorFlow and Google Colab**. 2018. Disponível em: https://jannik-zuern.medium.com/training-a-cifar-10-classifier-in-the-cloud-using-tensorflow-and-google-colab-f3a5fbdfe24d. Acesso em: 05 de outubro de 2021.*"
   ]
  },
  {
   "cell_type": "code",
   "execution_count": null,
   "metadata": {},
   "outputs": [],
   "source": [
    "#download da base de dados\n",
    "cifar10 = keras.datasets.cifar10\n",
    "\n",
    "#divisão em base de treinamento e testes (subdividido em imagens e labels)\n",
    "(train_images, train_labels), (test_images, test_labels) = cifar10.load_data()\n",
    "\n",
    "#remove 1 dimensão dos arrays de label\n",
    "train_labels = np.squeeze(train_labels)\n",
    "test_labels = np.squeeze(test_labels)"
   ]
  },
  {
   "cell_type": "code",
   "execution_count": null,
   "metadata": {},
   "outputs": [],
   "source": [
    "#impressão da quantidade de imagens da base\n",
    "print('Conjunto treino: {} amostras'.format(len(train_images)))\n",
    "print('Conjunto teste: {} amostras'.format(len(test_images)))"
   ]
  },
  {
   "cell_type": "code",
   "execution_count": null,
   "metadata": {},
   "outputs": [],
   "source": [
    "#definicao dos nomes das classes\n",
    "class_names = ['Avião', 'Automóvel', 'Pássaro', 'Gato', 'Veado', \n",
    "               'Cachorro', 'Sapo', 'Cavalo', 'Barco', 'Caminhão']"
   ]
  },
  {
   "cell_type": "markdown",
   "metadata": {},
   "source": [
    "### Análise dos Dados"
   ]
  },
  {
   "cell_type": "code",
   "execution_count": null,
   "metadata": {},
   "outputs": [],
   "source": [
    "helper.plot_images(train_images, train_labels, class_names, random=False)"
   ]
  },
  {
   "cell_type": "markdown",
   "metadata": {},
   "source": [
    "---\n",
    "## Pré processamento\n",
    "\n",
    "Podemos classificar o conjunto de dados utilizando os mesmos modelos utilizados no Notebook 1."
   ]
  },
  {
   "cell_type": "code",
   "execution_count": null,
   "metadata": {},
   "outputs": [],
   "source": [
    "#pré processamento\n",
    "train_images = train_images / 255.0\n",
    "test_images = test_images / 255.0"
   ]
  },
  {
   "cell_type": "code",
   "execution_count": null,
   "metadata": {},
   "outputs": [],
   "source": [
    "helper.plot_images(train_images, train_labels, class_names, random=False)"
   ]
  },
  {
   "cell_type": "markdown",
   "metadata": {},
   "source": [
    "---\n",
    "## Redes Convolucionais\n",
    "\n",
    "A rede neural abaixo é uma rede convolucional simples, contendo apenas uma camada convolucional.\n",
    "\n",
    "Sua arquitetura é baseada no modelo existente no Notebook 1, com adição de uma cada de convolução.\n",
    "\n",
    "\n",
    "#### Camada Convolucional\n",
    "\n",
    "A camada convolucional executa um convolução de em duas dimensões (ex.: convolução espacial sobre imagens).\n",
    "\n",
    "Essa camada cria um *kernel* de convolução que realiza a operação de convolução na entrada da camada para produzir um tensor de saídas. \n",
    "\n",
    "Para usá-la é necessário utilizar o comando `keras.layers.Conv2D`.\n",
    "\n",
    "Mais informações em: https://keras.io/api/layers/convolution_layers/convolution2d/"
   ]
  },
  {
   "cell_type": "code",
   "execution_count": null,
   "metadata": {},
   "outputs": [],
   "source": [
    "def load_model_1():\n",
    "    return keras.Sequential([\n",
    "        #convolução com 32 nós\n",
    "        keras.layers.Conv2D(32, 3, activation='relu'),\n",
    "\n",
    "        #transforma a image em um array de imagens de duas dimensões (of 28 by 28 pixels)\n",
    "        keras.layers.Flatten(input_shape=(28, 28)), \n",
    "\n",
    "        #Camada de dados totalmente conectadas, com ativação relu\n",
    "        #A camada possui 128 nós (neurônios)\n",
    "        keras.layers.Dense(128, activation='relu'),\n",
    "\n",
    "        #Camada de dados totalmente conectadas, com ativação softmax\n",
    "        #A camada possui 10 nós (neurônios), correspondentes às probabilidades de cada classe (10 classes)\n",
    "        keras.layers.Dense(10, activation='softmax')\n",
    "    ])"
   ]
  },
  {
   "cell_type": "markdown",
   "metadata": {},
   "source": [
    "---\n",
    "## Compilação do Modelo\n",
    "\n",
    "Informações detalhadas sobre os métodos de otimização, perda e métricas serão exibidas nos próximos notebooks e nas parte teórica."
   ]
  },
  {
   "cell_type": "code",
   "execution_count": null,
   "metadata": {
    "scrolled": false
   },
   "outputs": [],
   "source": [
    "#gera modelo\n",
    "model1 = load_model_1() #o modelo foi recarregado para melhor comparação dos otimizadores\n",
    "\n",
    "#define o otimizador\n",
    "adam = tf.keras.optimizers.Adam(learning_rate=0.001)\n",
    "\n",
    "#compila o modelo\n",
    "model1.compile(optimizer=adam, loss='sparse_categorical_crossentropy', metrics=['accuracy'])\n",
    "\n",
    "#treina o modelo\n",
    "history = model1.fit(train_images, train_labels, epochs=10)"
   ]
  },
  {
   "cell_type": "markdown",
   "metadata": {},
   "source": [
    "### Principais Parâmetros \n",
    "\n",
    "As camadas convolucionais possuem diversos parâmetros, que podem ser utilizados para ajuste do modelo.\n",
    "\n",
    "Os parâmetros principais (ou mais utilizados) estão descritos abaixo.\n",
    "\n",
    "*obs.: A alteração dos parâmetros pode não ser trivial, podendo requerer adequação das camadas seguintes. O cálculo de saída de uma camada convolucional não será descrito neste documento.*\n",
    "\n",
    "Mais informações em: https://keras.io/api/layers/convolution_layers/convolution2d/\n",
    "\n",
    "#### *Filters*\n",
    "\n",
    "Integer, the dimensionality of the output space (i.e. the number of output filters in the convolution).\n",
    "Números de filtros de saída da convolução.\n",
    "\n",
    "Pode ser associada à profundidade em um modelo convolucional.\n",
    "\n",
    "![filters](https://cs231n.github.io/assets/cnn/cnn.jpeg)\n",
    "\n",
    "Fonte: *Li, F.-F., Krishna, R., and Xu, D. **Convolutional neural networks (cnns / convnets)**. 2021. Disponível em: https://cs231n.github.io/convolutional-networks/. Acesso em: 26 de Janeiro de 2021.*\n",
    "\n",
    "#### Kernel Size\n",
    "\n",
    "Tamanho do *kernel* que desliza sobre a imagem durante o processo de convolução.\n",
    "\n",
    "São definidos por um tupla de 2 inteiros, correspondente ao largura e altura do filtro. \n",
    "\n",
    "![kernel](https://miro.medium.com/max/667/1*naUX8KsDblRJebhrqERtBw.png)\n",
    "\n",
    "Fonte: *Yunus, M. **11 Artificial Neural Network (ANN) — Part 6 Konsep Dasar Convolutional Neural Network (CNN).**. 2020. Disponível em: https://yunusmuhammad007.medium.com/11-artificial-neural-network-ann-part-6-konsep-dasar-convolutional-neural-network-cnn-3cc10fd9cf69 . Acesso em: 26 de Janeiro de 2021.*\n",
    "\n",
    "#### *Strides*\n",
    "\n",
    "Corresponde à taxa de \"deslizamento\" dos *kernels*, em pixels.\n",
    "\n",
    "São definidos por um tupla de 2 inteiros, correspondente ao largura e altura do filtro. \n",
    "\n",
    "#### *Padding*\n",
    "\n",
    "*Padding* ou *zero-padding* corresponde ao parâmetro correspondente à adição de zeros à margem da imagem para que a saída de uma convolução tenha um tamanho (largura e altura) desejado.\n",
    "\n",
    "O parâmetros pode receber valores como \"*valid*\" ou \"*same*\", de modo a gerenciar a saída de dados. \n",
    "\n",
    "![padding](https://miro.medium.com/max/667/1*Ch4NraXzYjdZrSoA9sGZTg.png)\n",
    "\n",
    "Fonte: *Yunus, M. **11 Artificial Neural Network (ANN) — Part 6 Konsep Dasar Convolutional Neural Network (CNN).**. 2020. Disponível em: https://yunusmuhammad007.medium.com/11-artificial-neural-network-ann-part-6-konsep-dasar-convolutional-neural-network-cnn-3cc10fd9cf69 . Acesso em: 26 de Janeiro de 2021.*"
   ]
  },
  {
   "cell_type": "markdown",
   "metadata": {},
   "source": [
    "#### Alteração da quantidade de filtros\n",
    "\n",
    "Podemos gerar um novo modelo, com alteração da quantidade de filtros."
   ]
  },
  {
   "cell_type": "code",
   "execution_count": null,
   "metadata": {},
   "outputs": [],
   "source": [
    "def load_model_2():\n",
    "    return keras.Sequential([\n",
    "        #convolução com 32 nós\n",
    "        keras.layers.Conv2D(filters=64, kernel_size=(3,3), strides=(1,1), padding='valid',\n",
    "                            input_shape=(32,32,3), activation='relu'),\n",
    "        \n",
    "        #transforma a image em um array de imagens de duas dimensões (of 28 by 28 pixels)\n",
    "        keras.layers.Flatten(input_shape=(28, 28)), \n",
    "\n",
    "        #Camada de dados totalmente conectadas, com ativação relu\n",
    "        #A camada possui 128 nós (neurônios)\n",
    "        keras.layers.Dense(128, activation='relu'),\n",
    "\n",
    "        #Camada de dados totalmente conectadas, com ativação softmax\n",
    "        #A camada possui 10 nós (neurônios), correspondentes às probabilidades de cada classe (10 classes)\n",
    "        keras.layers.Dense(10, activation='softmax')\n",
    "    ])"
   ]
  },
  {
   "cell_type": "code",
   "execution_count": null,
   "metadata": {},
   "outputs": [],
   "source": [
    "#gera modelo\n",
    "model2 = load_model_2() #o modelo foi recarregado para melhor comparação dos otimizadores\n",
    "\n",
    "#define o otimizador\n",
    "adam = tf.keras.optimizers.Adam(learning_rate=0.001)\n",
    "\n",
    "#compila o modelo\n",
    "model2.compile(optimizer=adam, loss='sparse_categorical_crossentropy', metrics=['accuracy'])\n",
    "\n",
    "#treina o modelo\n",
    "history = model2.fit(train_images, train_labels, epochs=10)"
   ]
  },
  {
   "cell_type": "markdown",
   "metadata": {},
   "source": [
    "#### Alteração do parâmetro *kernel_size*\n",
    "\n",
    "Podemos gerar um novo modelo, com alteração do parâmetro *kernel_size*."
   ]
  },
  {
   "cell_type": "code",
   "execution_count": null,
   "metadata": {},
   "outputs": [],
   "source": [
    "def load_model_3():\n",
    "    return keras.Sequential([\n",
    "        #convolução com 32 nós\n",
    "        keras.layers.Conv2D(filters=64, kernel_size=(5,5), strides=(1,1), padding='valid',\n",
    "                            input_shape=(32,32,3), activation='relu'),\n",
    "        \n",
    "        #transforma a image em um array de imagens de duas dimensões (of 28 by 28 pixels)\n",
    "        keras.layers.Flatten(input_shape=(28, 28)), \n",
    "\n",
    "        #Camada de dados totalmente conectadas, com ativação relu\n",
    "        #A camada possui 128 nós (neurônios)\n",
    "        keras.layers.Dense(128, activation='relu'),\n",
    "\n",
    "        #Camada de dados totalmente conectadas, com ativação softmax\n",
    "        #A camada possui 10 nós (neurônios), correspondentes às probabilidades de cada classe (10 classes)\n",
    "        keras.layers.Dense(10, activation='softmax')\n",
    "    ])"
   ]
  },
  {
   "cell_type": "code",
   "execution_count": null,
   "metadata": {},
   "outputs": [],
   "source": [
    "#gera modelo\n",
    "model3 = load_model_3() #o modelo foi recarregado para melhor comparação dos otimizadores\n",
    "\n",
    "#define o otimizador\n",
    "adam = tf.keras.optimizers.Adam(learning_rate=0.001)\n",
    "\n",
    "#compila o modelo\n",
    "model3.compile(optimizer=adam, loss='sparse_categorical_crossentropy', metrics=['accuracy'])\n",
    "\n",
    "#treina o modelo\n",
    "history = model3.fit(train_images, train_labels, epochs=10)"
   ]
  },
  {
   "cell_type": "markdown",
   "metadata": {},
   "source": [
    "#### Alteração do parâmetro *strides*\n",
    "\n",
    "Podemos gerar um novo modelo, com alteração do parâmetro *stride*."
   ]
  },
  {
   "cell_type": "code",
   "execution_count": null,
   "metadata": {},
   "outputs": [],
   "source": [
    "def load_model_4():\n",
    "    return keras.Sequential([\n",
    "        #convolução com 32 nós\n",
    "        keras.layers.Conv2D(filters=64, kernel_size=(3,3), strides=(3,3), padding='valid',\n",
    "                            input_shape=(32,32,3), activation='relu'),\n",
    "        \n",
    "        #transforma a image em um array de imagens de duas dimensões (of 28 by 28 pixels)\n",
    "        keras.layers.Flatten(input_shape=(28, 28)), \n",
    "\n",
    "        #Camada de dados totalmente conectadas, com ativação relu\n",
    "        #A camada possui 128 nós (neurônios)\n",
    "        keras.layers.Dense(128, activation='relu'),\n",
    "\n",
    "        #Camada de dados totalmente conectadas, com ativação softmax\n",
    "        #A camada possui 10 nós (neurônios), correspondentes às probabilidades de cada classe (10 classes)\n",
    "        keras.layers.Dense(10, activation='softmax')\n",
    "    ])"
   ]
  },
  {
   "cell_type": "code",
   "execution_count": null,
   "metadata": {},
   "outputs": [],
   "source": [
    "#gera modelo\n",
    "model4 = load_model_4() #o modelo foi recarregado para melhor comparação dos otimizadores\n",
    "\n",
    "#define o otimizador\n",
    "adam = tf.keras.optimizers.Adam(learning_rate=0.001)\n",
    "\n",
    "#compila o modelo\n",
    "model4.compile(optimizer=adam, loss='sparse_categorical_crossentropy', metrics=['accuracy'])\n",
    "\n",
    "#treina o modelo\n",
    "history = model4.fit(train_images, train_labels, epochs=10)"
   ]
  },
  {
   "cell_type": "markdown",
   "metadata": {},
   "source": [
    "## Pooling\n",
    "\n",
    "A função de pooling é utilizada para prover informação estatística a respeito das saídas próximas.\n",
    "\n",
    "Tem como objetivo maximizar as vantagens da saída e tornar-se invariante a pequenos ruídos.\n",
    "\n",
    "Podem também ser utilizadas para redução da quantidade de neurônios entre camadas da rede, agrupando resultados na\n",
    "camada seguinte.\n",
    "\n",
    "O método de *pooling* mais utilizado é o MaxPooling (Pooling Máximo). Para usá-lo é necessário utilizar o comando `keras.layers.MaxPooling2D`.\n",
    "\n",
    "Mais informações: https://keras.io/api/layers/pooling_layers/\n",
    "\n",
    "![Pooling](https://computersciencewiki.org/images/8/8a/MaxpoolSample2.png)\n",
    "\n",
    "Fonte: *Computer Science Wiki. **Max-pooling / Pooling**. 2020. Disponível em: https://computersciencewiki.org/index.php/Max-pooling_/_Pooling. Acesso em: 08 de Setembro de 2020.* \n"
   ]
  },
  {
   "cell_type": "code",
   "execution_count": null,
   "metadata": {},
   "outputs": [],
   "source": [
    "def load_model_5():\n",
    "    return keras.Sequential([\n",
    "        #convolução com 32 nós\n",
    "        keras.layers.Conv2D(filters=64, kernel_size=(3,3), strides=(3,3), padding='valid',\n",
    "                            input_shape=(32,32,3), activation='relu'),\n",
    "        \n",
    "        keras.layers.MaxPooling2D(pool_size=(2,2)),\n",
    "        \n",
    "        #transforma a image em um array de imagens de duas dimensões (of 28 by 28 pixels)\n",
    "        keras.layers.Flatten(input_shape=(28, 28)), \n",
    "\n",
    "        #Camada de dados totalmente conectadas, com ativação relu\n",
    "        #A camada possui 128 nós (neurônios)\n",
    "        keras.layers.Dense(128, activation='relu'),\n",
    "\n",
    "        #Camada de dados totalmente conectadas, com ativação softmax\n",
    "        #A camada possui 10 nós (neurônios), correspondentes às probabilidades de cada classe (10 classes)\n",
    "        keras.layers.Dense(10, activation='softmax')\n",
    "    ])"
   ]
  },
  {
   "cell_type": "code",
   "execution_count": null,
   "metadata": {},
   "outputs": [],
   "source": [
    "#gera modelo\n",
    "model5 = load_model_5() #o modelo foi recarregado para melhor comparação dos otimizadores\n",
    "\n",
    "#define o otimizador\n",
    "adam = tf.keras.optimizers.Adam(learning_rate=0.001)\n",
    "\n",
    "#compila o modelo\n",
    "model5.compile(optimizer=adam, loss='sparse_categorical_crossentropy', metrics=['accuracy'])\n",
    "\n",
    "#treina o modelo\n",
    "history = model5.fit(train_images, train_labels, epochs=10)"
   ]
  },
  {
   "cell_type": "markdown",
   "metadata": {},
   "source": [
    "---\n",
    "## Aumento Artificial de Dados (*Data Augmentation*)\n",
    "\n",
    "Podemos diminuir o sobretreinamento (*overfitting*), por meio da criação de registros artificiais. Esse processo é conhecido como *data augmentation*.\n",
    "\n",
    "O aumento artificial de dados dificulta o reconhecimento de amostras (\"rede decora amostras\") e favorece a capacidade de generalização.\n",
    "\n",
    "Nas redes convolucionais previamente estudadas, pode ser percebido a existência de *overfitting*, quando dividimos os conjuntos em treinamento e validação.\n",
    "\n",
    "Observa-se um crescimento da acurácia no conjunto de treinamento e a manutenção do desempenho no conjunto de validação."
   ]
  },
  {
   "cell_type": "code",
   "execution_count": null,
   "metadata": {},
   "outputs": [],
   "source": [
    "#gera modelo\n",
    "model1 = load_model_1() #o modelo foi recarregado para melhor comparação dos otimizadores\n",
    "\n",
    "#define o otimizador\n",
    "adam = tf.keras.optimizers.Adam(learning_rate=0.001)\n",
    "\n",
    "#compila o modelo\n",
    "model1.compile(optimizer=adam, loss='sparse_categorical_crossentropy', metrics=['accuracy'])\n",
    "\n",
    "#treina o modelo\n",
    "history = model1.fit(train_images, train_labels, validation_split=0.2, epochs=10)\n",
    "\n",
    "# plota o gráfico\n",
    "helper.plot_history_training(history, metrics=['accuracy', 'val_accuracy'], legend=['Treinamento', 'Validação'])"
   ]
  },
  {
   "cell_type": "markdown",
   "metadata": {},
   "source": [
    "### Data Augmentation\n",
    "\n",
    "Para aumento dos dados, é possível utilizar diferentes recursos computacionais, como bibliotecas e frameworks específicos para esse propósito.\n",
    "\n",
    "O Tensorflow é capaz de gerar dados de diferentes formas. Por questões didáticas, optaremos por um gerador de imagem simples, provido pela interface do Keras.\n",
    "\n",
    "Esse gerador é denominado `ImageDataGenerator`.\n",
    "\n",
    "Ele é capaz de fazer diversas transformações nas imagens, como espelhamento, rotação, normalização da imagem, deslocamento de *pixels*, entre outros.\n",
    "\n",
    "Outras funcionalidades também pode acrescentar opções como *blur*, aumento de saturação, adição de ruídos, aplicação de filtros, entre outros.\n",
    "\n",
    "![Data augmentation](https://algorithmia.com/blog/wp-content/uploads/2018/08/word-image-8.png)\n",
    "\n",
    "Fonte: *Algorithmia. **Introduction to Dataset Augmentation and Expansion**. 2018. Disponível em: https://algorithmia.com/blog/introduction-to-dataset-augmentation-and-expansion . Acesso em: 17 de outubro de 2021.*\n",
    "\n",
    "Mais informações: https://www.tensorflow.org/api_docs/python/tf/keras/preprocessing/image/ImageDataGenerator"
   ]
  },
  {
   "cell_type": "markdown",
   "metadata": {},
   "source": [
    "#### ImageDataGenerator\n",
    "\n",
    "Para usar o `ImageDataGenerator`, precisamos criar um gerador de imagem e definir quais as transformações iremos realizar.\n",
    "\n",
    "Quanto mais transformações utilizarmos, mais amostras iremos processar (consequentemente mais tempo a rede irá demorar para treinar)."
   ]
  },
  {
   "cell_type": "code",
   "execution_count": null,
   "metadata": {},
   "outputs": [],
   "source": [
    "datagen = ImageDataGenerator(\n",
    "    featurewise_center=True,             #Normaliza a imagem de modo que ela tenha média zero\n",
    "    featurewise_std_normalization=True,  #Normaliza a entrada para média de cores dos pixel da base de dados\n",
    "    rotation_range=20,                   #intervalo de rotação\n",
    "    width_shift_range=0.2,               #intervalo de deslocamento de pixels na largura\n",
    "    height_shift_range=0.2,              #intervalo de deslocamento de pixels na altura\n",
    "    horizontal_flip=True,                #espelhamento horizontal\n",
    "    validation_split=0.2)"
   ]
  },
  {
   "cell_type": "code",
   "execution_count": null,
   "metadata": {
    "scrolled": false
   },
   "outputs": [],
   "source": [
    "#gera modelo\n",
    "model1 = load_model_1() #o modelo foi recarregado para melhor comparação dos otimizadores\n",
    "\n",
    "#define o otimizador\n",
    "adam = tf.keras.optimizers.Adam(learning_rate=0.001)\n",
    "\n",
    "#compila o modelo\n",
    "model1.compile(optimizer=adam, loss='sparse_categorical_crossentropy', metrics=['accuracy'])\n",
    "\n",
    "#compila o modelo\n",
    "model1.compile(optimizer=adam, loss='sparse_categorical_crossentropy', metrics=['accuracy'])\n",
    "\n",
    "#treina o modelo\n",
    "history = model1.fit(datagen.flow(train_images, train_labels, batch_size=32, subset='training'), \n",
    "           validation_data=datagen.flow(train_images, train_labels, batch_size=8, subset='validation'),\n",
    "           epochs=10)\n",
    "\n",
    "# plota o gráfico\n",
    "helper.plot_history_training(history, metrics=['accuracy', 'val_accuracy'], legend=['Treinamento', 'Validação'])"
   ]
  },
  {
   "cell_type": "markdown",
   "metadata": {},
   "source": [
    "----\n",
    "----\n",
    "\n",
    "## Tarefas \n",
    "\n",
    "### Tarefa 1 (20 minutos)\n",
    "\n",
    "Treine a rede convolucional abaixo no conjunto de dados CIFAR-10.\n",
    "\n",
    "#### Atividades Sugeridas\n",
    "\n",
    "- Inclua rotinas de aumento artificial de dados;\n",
    "- Varie as taxas de aprendizado e decaimento da rede;\n",
    "- Plote gráficos para verificar a existência de overfitting."
   ]
  },
  {
   "cell_type": "code",
   "execution_count": null,
   "metadata": {},
   "outputs": [],
   "source": [
    "def load_model():\n",
    "    return keras.Sequential([\n",
    "        keras.layers.Conv2D(32, (3,3), input_shape=(32,32,3), activation='relu'),\n",
    "        keras.layers.MaxPooling2D(pool_size=(2,2)),\n",
    "        keras.layers.Conv2D(64, (5,5), activation='relu'),\n",
    "        keras.layers.MaxPooling2D(pool_size=(3,3)),\n",
    "        keras.layers.Conv2D(64, (3,3), activation='relu'),\n",
    "        keras.layers.Flatten(), \n",
    "        keras.layers.Dense(64, activation='relu'),\n",
    "        keras.layers.Dense(10, activation='softmax')\n",
    "    ])"
   ]
  },
  {
   "cell_type": "code",
   "execution_count": null,
   "metadata": {},
   "outputs": [],
   "source": [
    "#compile seu modelo aqui"
   ]
  },
  {
   "cell_type": "code",
   "execution_count": null,
   "metadata": {},
   "outputs": [],
   "source": [
    "#treine seu modelo aqui"
   ]
  },
  {
   "cell_type": "code",
   "execution_count": null,
   "metadata": {},
   "outputs": [],
   "source": [
    "#imprima o gráfico de treinamento aqui"
   ]
  },
  {
   "cell_type": "code",
   "execution_count": null,
   "metadata": {},
   "outputs": [],
   "source": [
    "#avalie seu modelo aqui"
   ]
  },
  {
   "cell_type": "markdown",
   "metadata": {},
   "source": [
    "----\n",
    "\n",
    "### Tarefa 2 (30 minutos)\n",
    "\n",
    "Treine a rede convolucional abaixo no conjunto de dados Flowers.\n",
    "\n",
    "https://www.tensorflow.org/datasets/catalog/tf_flowers\n",
    "\n",
    "#### Atividades Sugeridas\n",
    "\n",
    "- Inclua rotinas de aumento artificial de dados;\n",
    "- Varie as taxas de aprendizado e decaimento da rede;\n",
    "- Plote gráficos para verificar a existência de overfitting."
   ]
  },
  {
   "cell_type": "code",
   "execution_count": null,
   "metadata": {},
   "outputs": [],
   "source": [
    "def load_model():\n",
    "    return keras.Sequential([\n",
    "        keras.layers.Conv2D(32, (3,3), input_shape=(32,32,3), activation='relu'),\n",
    "        keras.layers.MaxPooling2D(pool_size=(2,2)),\n",
    "        keras.layers.Conv2D(64, (5,5), activation='relu'),\n",
    "        keras.layers.MaxPooling2D(pool_size=(3,3)),\n",
    "        keras.layers.Conv2D(64, (3,3), activation='relu'),\n",
    "        keras.layers.Flatten(), \n",
    "        keras.layers.Dense(64, activation='relu'),\n",
    "        keras.layers.Dense(10, activation='softmax')\n",
    "    ])"
   ]
  },
  {
   "cell_type": "code",
   "execution_count": null,
   "metadata": {},
   "outputs": [],
   "source": [
    "#compile seu modelo aqui"
   ]
  },
  {
   "cell_type": "code",
   "execution_count": null,
   "metadata": {},
   "outputs": [],
   "source": [
    "#treine seu modelo aqui"
   ]
  },
  {
   "cell_type": "code",
   "execution_count": null,
   "metadata": {},
   "outputs": [],
   "source": [
    "#imprima o gráfico de treinamento aqui"
   ]
  },
  {
   "cell_type": "code",
   "execution_count": null,
   "metadata": {},
   "outputs": [],
   "source": [
    "#avalie seu modelo aqui"
   ]
  },
  {
   "cell_type": "markdown",
   "metadata": {},
   "source": [
    "----\n",
    "\n",
    "### Tarefa 3 (60 minutos)\n",
    "\n",
    "Treine a rede convolucional no conjunto de dados Stanford Dogs.\n",
    "\n",
    "https://www.tensorflow.org/datasets/catalog/stanford_dogs\n",
    "\n",
    "#### Atividades Sugeridas\n",
    "\n",
    "- Inclua rotinas de aumento artificial de dados;\n",
    "- Varie as taxas de aprendizado e decaimento da rede;\n",
    "- Plote gráficos para verificar a existência de overfitting."
   ]
  },
  {
   "cell_type": "code",
   "execution_count": null,
   "metadata": {},
   "outputs": [],
   "source": [
    "def load_model():\n",
    "    return keras.Sequential([\n",
    "        keras.layers.Conv2D(32, (3,3), input_shape=(32,32,3), activation='relu'),\n",
    "        keras.layers.MaxPooling2D(pool_size=(2,2)),\n",
    "        keras.layers.Conv2D(64, (5,5), activation='relu'),\n",
    "        keras.layers.MaxPooling2D(pool_size=(3,3)),\n",
    "        keras.layers.Conv2D(64, (3,3), activation='relu'),\n",
    "        keras.layers.Flatten(), \n",
    "        keras.layers.Dense(64, activation='relu'),\n",
    "        keras.layers.Dense(10, activation='softmax')\n",
    "    ])"
   ]
  },
  {
   "cell_type": "code",
   "execution_count": null,
   "metadata": {},
   "outputs": [],
   "source": [
    "#compile seu modelo aqui"
   ]
  },
  {
   "cell_type": "code",
   "execution_count": null,
   "metadata": {},
   "outputs": [],
   "source": [
    "#treine seu modelo aqui"
   ]
  },
  {
   "cell_type": "code",
   "execution_count": null,
   "metadata": {},
   "outputs": [],
   "source": [
    "#imprima o gráfico de treinamento aqui"
   ]
  },
  {
   "cell_type": "code",
   "execution_count": null,
   "metadata": {},
   "outputs": [],
   "source": [
    "#avalie seu modelo aqui"
   ]
  },
  {
   "cell_type": "code",
   "execution_count": null,
   "metadata": {},
   "outputs": [],
   "source": []
  }
 ],
 "metadata": {
  "kernelspec": {
   "display_name": "Python 3",
   "language": "python",
   "name": "python3"
  },
  "language_info": {
   "codemirror_mode": {
    "name": "ipython",
    "version": 3
   },
   "file_extension": ".py",
   "mimetype": "text/x-python",
   "name": "python",
   "nbconvert_exporter": "python",
   "pygments_lexer": "ipython3",
   "version": "3.8.3"
  }
 },
 "nbformat": 4,
 "nbformat_minor": 4
}
